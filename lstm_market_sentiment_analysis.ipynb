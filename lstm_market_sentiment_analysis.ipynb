{
 "cells": [
  {
   "cell_type": "markdown",
   "id": "8e4dd794",
   "metadata": {
    "papermill": {
     "duration": 0.006607,
     "end_time": "2025-03-02T10:56:29.454956",
     "exception": false,
     "start_time": "2025-03-02T10:56:29.448349",
     "status": "completed"
    },
    "tags": []
   },
   "source": [
    "### Market Comments Dataset Overview\n",
    "\n",
    "This dataset contains 14,281 rows and 8 columns, including customer reviews for various market products. The dataset includes item categories, brands, user information, comment text, ratings, and sentiment labels.\n",
    "\n",
    "## Features in the Dataset\n",
    "* item_category : Category of the product being reviewed (e.g., electronics, appliances, etc.).\n",
    "* item_id : Unique identifier for each product.\n",
    "* brand\t: Encoded brand ID for each product.\n",
    "* user_id : Unique user identifier who posted the comment.\n",
    "* date : The date the comment was posted (YYYY-MM-DD format).\n",
    "* comment : The actual text review left by the customer.\n",
    "* rating : The numerical rating given by the user (range: 1.0 - 5.0).\n",
    "* tonality : The sentiment label of the comment (positive, negative, neutral).\n"
   ]
  },
  {
   "cell_type": "code",
   "execution_count": 1,
   "id": "1d388b34",
   "metadata": {
    "_cell_guid": "b1076dfc-b9ad-4769-8c92-a6c4dae69d19",
    "_uuid": "8f2839f25d086af736a60e9eeb907d3b93b6e0e5",
    "execution": {
     "iopub.execute_input": "2025-03-02T10:56:29.466185Z",
     "iopub.status.busy": "2025-03-02T10:56:29.465817Z",
     "iopub.status.idle": "2025-03-02T10:56:46.407284Z",
     "shell.execute_reply": "2025-03-02T10:56:46.405900Z"
    },
    "papermill": {
     "duration": 16.948779,
     "end_time": "2025-03-02T10:56:46.409050",
     "exception": false,
     "start_time": "2025-03-02T10:56:29.460271",
     "status": "completed"
    },
    "tags": []
   },
   "outputs": [
    {
     "name": "stdout",
     "output_type": "stream",
     "text": [
      "[nltk_data] Downloading package stopwords to /usr/share/nltk_data...\n",
      "[nltk_data]   Unzipping corpora/stopwords.zip.\n",
      "[nltk_data] Downloading package punkt to /usr/share/nltk_data...\n",
      "[nltk_data]   Package punkt is already up-to-date!\n",
      "/kaggle/input/consumer-sentiments-and-ratings/market_comments.csv\n"
     ]
    }
   ],
   "source": [
    "# This Python 3 environment comes with many helpful analytics libraries installed\n",
    "# It is defined by the kaggle/python Docker image: https://github.com/kaggle/docker-python\n",
    "# For example, here's several helpful packages to load\n",
    "\n",
    "import numpy as np # linear algebra\n",
    "import pandas as pd # data processing, CSV file I/O (e.g. pd.read_csv)\n",
    "import matplotlib.pyplot as plt\n",
    "import seaborn as sns\n",
    "import tensorflow as tf\n",
    "import re\n",
    "import string\n",
    "from nltk.corpus import stopwords\n",
    "from nltk.tokenize import word_tokenize\n",
    "from tensorflow.keras.preprocessing.text import Tokenizer\n",
    "from tensorflow.keras.preprocessing.sequence import pad_sequences\n",
    "from tensorflow.keras.models import Sequential\n",
    "from tensorflow.keras.layers import Embedding, LSTM, Dense, Dropout, Bidirectional, Input\n",
    "from sklearn.model_selection import train_test_split\n",
    "from sklearn.preprocessing import LabelEncoder\n",
    "from tensorflow.keras.utils import to_categorical\n",
    "from sklearn.metrics import confusion_matrix, classification_report\n",
    "import nltk\n",
    "\n",
    "nltk.download('stopwords')\n",
    "nltk.download('punkt')\n",
    "# Input data files are available in the read-only \"../input/\" directory\n",
    "# For example, running this (by clicking run or pressing Shift+Enter) will list all files under the input directory\n",
    "\n",
    "import os\n",
    "for dirname, _, filenames in os.walk('/kaggle/input'):\n",
    "    for filename in filenames:\n",
    "        print(os.path.join(dirname, filename))\n",
    "\n",
    "# You can write up to 20GB to the current directory (/kaggle/working/) that gets preserved as output when you create a version using \"Save & Run All\" \n",
    "# You can also write temporary files to /kaggle/temp/, but they won't be saved outside of the current session"
   ]
  },
  {
   "cell_type": "markdown",
   "id": "eb7b9297",
   "metadata": {
    "papermill": {
     "duration": 0.004587,
     "end_time": "2025-03-02T10:56:46.418952",
     "exception": false,
     "start_time": "2025-03-02T10:56:46.414365",
     "status": "completed"
    },
    "tags": []
   },
   "source": [
    "# TEXT PREPROCESSING"
   ]
  },
  {
   "cell_type": "markdown",
   "id": "a7b83bea",
   "metadata": {
    "papermill": {
     "duration": 0.004455,
     "end_time": "2025-03-02T10:56:46.428121",
     "exception": false,
     "start_time": "2025-03-02T10:56:46.423666",
     "status": "completed"
    },
    "tags": []
   },
   "source": [
    "## Function to clean text"
   ]
  },
  {
   "cell_type": "code",
   "execution_count": 2,
   "id": "42ac054d",
   "metadata": {
    "execution": {
     "iopub.execute_input": "2025-03-02T10:56:46.438950Z",
     "iopub.status.busy": "2025-03-02T10:56:46.438392Z",
     "iopub.status.idle": "2025-03-02T10:56:46.443353Z",
     "shell.execute_reply": "2025-03-02T10:56:46.442258Z"
    },
    "papermill": {
     "duration": 0.012286,
     "end_time": "2025-03-02T10:56:46.445051",
     "exception": false,
     "start_time": "2025-03-02T10:56:46.432765",
     "status": "completed"
    },
    "tags": []
   },
   "outputs": [],
   "source": [
    "def clean_text(text):\n",
    "    text = text.lower()  # Convert to lowercase\n",
    "    text = re.sub(f\"[{string.punctuation}]\", \"\", text)  # Remove punctuation\n",
    "    text = re.sub(r\"\\d+\", \"\", text)  # Remove numbers\n",
    "    words = word_tokenize(text)  # Tokenize words\n",
    "    words = [word for word in words if word not in stopwords.words('russian')]  # Remove Russian stopwords\n",
    "    return \" \".join(words)"
   ]
  },
  {
   "cell_type": "markdown",
   "id": "f717c4ba",
   "metadata": {
    "papermill": {
     "duration": 0.004708,
     "end_time": "2025-03-02T10:56:46.455122",
     "exception": false,
     "start_time": "2025-03-02T10:56:46.450414",
     "status": "completed"
    },
    "tags": []
   },
   "source": [
    "## Load dataset"
   ]
  },
  {
   "cell_type": "code",
   "execution_count": 3,
   "id": "2adbfbb8",
   "metadata": {
    "execution": {
     "iopub.execute_input": "2025-03-02T10:56:46.465787Z",
     "iopub.status.busy": "2025-03-02T10:56:46.465493Z",
     "iopub.status.idle": "2025-03-02T10:56:46.729268Z",
     "shell.execute_reply": "2025-03-02T10:56:46.727955Z"
    },
    "papermill": {
     "duration": 0.270822,
     "end_time": "2025-03-02T10:56:46.730816",
     "exception": false,
     "start_time": "2025-03-02T10:56:46.459994",
     "status": "completed"
    },
    "tags": []
   },
   "outputs": [],
   "source": [
    "df = pd.read_csv(\"/kaggle/input/consumer-sentiments-and-ratings/market_comments.csv\").dropna()"
   ]
  },
  {
   "cell_type": "markdown",
   "id": "f6236fa0",
   "metadata": {
    "papermill": {
     "duration": 0.005188,
     "end_time": "2025-03-02T10:56:46.741104",
     "exception": false,
     "start_time": "2025-03-02T10:56:46.735916",
     "status": "completed"
    },
    "tags": []
   },
   "source": [
    "## Extract comments and labels"
   ]
  },
  {
   "cell_type": "code",
   "execution_count": 4,
   "id": "de8ba159",
   "metadata": {
    "execution": {
     "iopub.execute_input": "2025-03-02T10:56:46.752532Z",
     "iopub.status.busy": "2025-03-02T10:56:46.752253Z",
     "iopub.status.idle": "2025-03-02T10:57:38.090084Z",
     "shell.execute_reply": "2025-03-02T10:57:38.089335Z"
    },
    "papermill": {
     "duration": 51.344951,
     "end_time": "2025-03-02T10:57:38.091579",
     "exception": false,
     "start_time": "2025-03-02T10:56:46.746628",
     "status": "completed"
    },
    "tags": []
   },
   "outputs": [],
   "source": [
    "comments = df['comment'].astype(str).apply(clean_text).values  # Apply text cleaning\n",
    "labels = df['tonality'].values"
   ]
  },
  {
   "cell_type": "markdown",
   "id": "d65b3631",
   "metadata": {
    "papermill": {
     "duration": 0.004372,
     "end_time": "2025-03-02T10:57:38.101089",
     "exception": false,
     "start_time": "2025-03-02T10:57:38.096717",
     "status": "completed"
    },
    "tags": []
   },
   "source": [
    "## Check unique sentiment classes"
   ]
  },
  {
   "cell_type": "code",
   "execution_count": 5,
   "id": "bcc71fd0",
   "metadata": {
    "execution": {
     "iopub.execute_input": "2025-03-02T10:57:38.111284Z",
     "iopub.status.busy": "2025-03-02T10:57:38.110955Z",
     "iopub.status.idle": "2025-03-02T10:57:38.120331Z",
     "shell.execute_reply": "2025-03-02T10:57:38.119385Z"
    },
    "papermill": {
     "duration": 0.015773,
     "end_time": "2025-03-02T10:57:38.121555",
     "exception": false,
     "start_time": "2025-03-02T10:57:38.105782",
     "status": "completed"
    },
    "tags": []
   },
   "outputs": [
    {
     "name": "stdout",
     "output_type": "stream",
     "text": [
      "Detected 2 sentiment classes: ['negative' 'positive']\n"
     ]
    }
   ],
   "source": [
    "unique_classes = np.unique(labels)\n",
    "num_classes = len(unique_classes)\n",
    "print(f\"Detected {num_classes} sentiment classes: {unique_classes}\")"
   ]
  },
  {
   "cell_type": "markdown",
   "id": "2f8ce5c4",
   "metadata": {
    "papermill": {
     "duration": 0.004471,
     "end_time": "2025-03-02T10:57:38.131336",
     "exception": false,
     "start_time": "2025-03-02T10:57:38.126865",
     "status": "completed"
    },
    "tags": []
   },
   "source": [
    "## Encode labels"
   ]
  },
  {
   "cell_type": "code",
   "execution_count": 6,
   "id": "ffac5229",
   "metadata": {
    "execution": {
     "iopub.execute_input": "2025-03-02T10:57:38.141941Z",
     "iopub.status.busy": "2025-03-02T10:57:38.141580Z",
     "iopub.status.idle": "2025-03-02T10:57:38.149055Z",
     "shell.execute_reply": "2025-03-02T10:57:38.147884Z"
    },
    "papermill": {
     "duration": 0.014703,
     "end_time": "2025-03-02T10:57:38.150689",
     "exception": false,
     "start_time": "2025-03-02T10:57:38.135986",
     "status": "completed"
    },
    "tags": []
   },
   "outputs": [],
   "source": [
    "label_encoder = LabelEncoder()\n",
    "encoded_labels = label_encoder.fit_transform(labels)\n",
    "categorical_labels = to_categorical(encoded_labels)"
   ]
  },
  {
   "cell_type": "markdown",
   "id": "eee64f3e",
   "metadata": {
    "papermill": {
     "duration": 0.004522,
     "end_time": "2025-03-02T10:57:38.160415",
     "exception": false,
     "start_time": "2025-03-02T10:57:38.155893",
     "status": "completed"
    },
    "tags": []
   },
   "source": [
    "# TOKENIZATION & PADDING"
   ]
  },
  {
   "cell_type": "markdown",
   "id": "99cecead",
   "metadata": {
    "papermill": {
     "duration": 0.004381,
     "end_time": "2025-03-02T10:57:38.169448",
     "exception": false,
     "start_time": "2025-03-02T10:57:38.165067",
     "status": "completed"
    },
    "tags": []
   },
   "source": [
    "## Tokenize comments"
   ]
  },
  {
   "cell_type": "code",
   "execution_count": 7,
   "id": "e8738917",
   "metadata": {
    "execution": {
     "iopub.execute_input": "2025-03-02T10:57:38.179832Z",
     "iopub.status.busy": "2025-03-02T10:57:38.179528Z",
     "iopub.status.idle": "2025-03-02T10:57:39.235478Z",
     "shell.execute_reply": "2025-03-02T10:57:39.234209Z"
    },
    "papermill": {
     "duration": 1.063142,
     "end_time": "2025-03-02T10:57:39.237196",
     "exception": false,
     "start_time": "2025-03-02T10:57:38.174054",
     "status": "completed"
    },
    "tags": []
   },
   "outputs": [],
   "source": [
    "tokenizer = Tokenizer(num_words=20000, oov_token=\"<OOV>\")\n",
    "tokenizer.fit_on_texts(comments)\n",
    "sequences = tokenizer.texts_to_sequences(comments)"
   ]
  },
  {
   "cell_type": "markdown",
   "id": "5e181932",
   "metadata": {
    "papermill": {
     "duration": 0.004597,
     "end_time": "2025-03-02T10:57:39.247117",
     "exception": false,
     "start_time": "2025-03-02T10:57:39.242520",
     "status": "completed"
    },
    "tags": []
   },
   "source": [
    "## Padding sequences"
   ]
  },
  {
   "cell_type": "code",
   "execution_count": 8,
   "id": "d386bc70",
   "metadata": {
    "execution": {
     "iopub.execute_input": "2025-03-02T10:57:39.258000Z",
     "iopub.status.busy": "2025-03-02T10:57:39.257674Z",
     "iopub.status.idle": "2025-03-02T10:57:39.307452Z",
     "shell.execute_reply": "2025-03-02T10:57:39.306230Z"
    },
    "papermill": {
     "duration": 0.057175,
     "end_time": "2025-03-02T10:57:39.309099",
     "exception": false,
     "start_time": "2025-03-02T10:57:39.251924",
     "status": "completed"
    },
    "tags": []
   },
   "outputs": [],
   "source": [
    "max_length = 150  # Ensure consistent length\n",
    "data_padded = pad_sequences(sequences, maxlen=max_length, padding='post', truncating='post')\n"
   ]
  },
  {
   "cell_type": "markdown",
   "id": "a2e2c06c",
   "metadata": {
    "papermill": {
     "duration": 0.004464,
     "end_time": "2025-03-02T10:57:39.318838",
     "exception": false,
     "start_time": "2025-03-02T10:57:39.314374",
     "status": "completed"
    },
    "tags": []
   },
   "source": [
    "## Split data into training and test sets"
   ]
  },
  {
   "cell_type": "code",
   "execution_count": 9,
   "id": "56e154bc",
   "metadata": {
    "execution": {
     "iopub.execute_input": "2025-03-02T10:57:39.329655Z",
     "iopub.status.busy": "2025-03-02T10:57:39.329332Z",
     "iopub.status.idle": "2025-03-02T10:57:39.340711Z",
     "shell.execute_reply": "2025-03-02T10:57:39.339886Z"
    },
    "papermill": {
     "duration": 0.018808,
     "end_time": "2025-03-02T10:57:39.342420",
     "exception": false,
     "start_time": "2025-03-02T10:57:39.323612",
     "status": "completed"
    },
    "tags": []
   },
   "outputs": [],
   "source": [
    "X_train, X_test, y_train, y_test = train_test_split(data_padded, categorical_labels, test_size=0.2, random_state=537)\n"
   ]
  },
  {
   "cell_type": "markdown",
   "id": "909e8708",
   "metadata": {
    "papermill": {
     "duration": 0.004584,
     "end_time": "2025-03-02T10:57:39.352391",
     "exception": false,
     "start_time": "2025-03-02T10:57:39.347807",
     "status": "completed"
    },
    "tags": []
   },
   "source": [
    "# BUILDING LSTM MODEL"
   ]
  },
  {
   "cell_type": "code",
   "execution_count": 10,
   "id": "3bd54b22",
   "metadata": {
    "execution": {
     "iopub.execute_input": "2025-03-02T10:57:39.362897Z",
     "iopub.status.busy": "2025-03-02T10:57:39.362576Z",
     "iopub.status.idle": "2025-03-02T10:57:39.563302Z",
     "shell.execute_reply": "2025-03-02T10:57:39.562517Z"
    },
    "papermill": {
     "duration": 0.2078,
     "end_time": "2025-03-02T10:57:39.564891",
     "exception": false,
     "start_time": "2025-03-02T10:57:39.357091",
     "status": "completed"
    },
    "tags": []
   },
   "outputs": [],
   "source": [
    "input_layer = Input(shape=(max_length,))\n",
    "embedding_layer = Embedding(input_dim=20000, output_dim=256)(input_layer)\n",
    "bidirectional_lstm = Bidirectional(LSTM(128, return_sequences=True))(embedding_layer)\n",
    "dropout_1 = Dropout(0.4)(bidirectional_lstm)\n",
    "lstm_2 = LSTM(64, return_sequences=True)(dropout_1)\n",
    "dropout_2 = Dropout(0.4)(lstm_2)\n",
    "lstm_3 = LSTM(32)(dropout_2)\n",
    "dense_layer = Dense(64, activation='relu')(lstm_3)\n",
    "dropout_3 = Dropout(0.3)(dense_layer)\n",
    "output_layer = Dense(num_classes, activation='softmax')(dropout_3)"
   ]
  },
  {
   "cell_type": "markdown",
   "id": "6f89da57",
   "metadata": {
    "papermill": {
     "duration": 0.004385,
     "end_time": "2025-03-02T10:57:39.574375",
     "exception": false,
     "start_time": "2025-03-02T10:57:39.569990",
     "status": "completed"
    },
    "tags": []
   },
   "source": [
    "## Create model"
   ]
  },
  {
   "cell_type": "code",
   "execution_count": 11,
   "id": "ac3cf041",
   "metadata": {
    "execution": {
     "iopub.execute_input": "2025-03-02T10:57:39.584196Z",
     "iopub.status.busy": "2025-03-02T10:57:39.583918Z",
     "iopub.status.idle": "2025-03-02T10:57:39.589643Z",
     "shell.execute_reply": "2025-03-02T10:57:39.588973Z"
    },
    "papermill": {
     "duration": 0.011777,
     "end_time": "2025-03-02T10:57:39.590625",
     "exception": false,
     "start_time": "2025-03-02T10:57:39.578848",
     "status": "completed"
    },
    "tags": []
   },
   "outputs": [],
   "source": [
    "model = tf.keras.Model(inputs=input_layer, outputs=output_layer)"
   ]
  },
  {
   "cell_type": "markdown",
   "id": "d07ad95f",
   "metadata": {
    "papermill": {
     "duration": 0.004311,
     "end_time": "2025-03-02T10:57:39.599580",
     "exception": false,
     "start_time": "2025-03-02T10:57:39.595269",
     "status": "completed"
    },
    "tags": []
   },
   "source": [
    "## Compile model"
   ]
  },
  {
   "cell_type": "code",
   "execution_count": 12,
   "id": "710469f9",
   "metadata": {
    "execution": {
     "iopub.execute_input": "2025-03-02T10:57:39.609817Z",
     "iopub.status.busy": "2025-03-02T10:57:39.609545Z",
     "iopub.status.idle": "2025-03-02T10:57:39.620190Z",
     "shell.execute_reply": "2025-03-02T10:57:39.619380Z"
    },
    "papermill": {
     "duration": 0.017404,
     "end_time": "2025-03-02T10:57:39.621647",
     "exception": false,
     "start_time": "2025-03-02T10:57:39.604243",
     "status": "completed"
    },
    "tags": []
   },
   "outputs": [],
   "source": [
    "model.compile(loss='categorical_crossentropy', optimizer='adam', metrics=['accuracy'])"
   ]
  },
  {
   "cell_type": "markdown",
   "id": "c18fc1aa",
   "metadata": {
    "papermill": {
     "duration": 0.004416,
     "end_time": "2025-03-02T10:57:39.631070",
     "exception": false,
     "start_time": "2025-03-02T10:57:39.626654",
     "status": "completed"
    },
    "tags": []
   },
   "source": [
    "# TRAINING THE MODEL"
   ]
  },
  {
   "cell_type": "code",
   "execution_count": 13,
   "id": "3abbae6c",
   "metadata": {
    "execution": {
     "iopub.execute_input": "2025-03-02T10:57:39.641671Z",
     "iopub.status.busy": "2025-03-02T10:57:39.641338Z",
     "iopub.status.idle": "2025-03-02T13:05:39.981552Z",
     "shell.execute_reply": "2025-03-02T13:05:39.980618Z"
    },
    "papermill": {
     "duration": 7680.347571,
     "end_time": "2025-03-02T13:05:39.983245",
     "exception": false,
     "start_time": "2025-03-02T10:57:39.635674",
     "status": "completed"
    },
    "tags": []
   },
   "outputs": [
    {
     "name": "stdout",
     "output_type": "stream",
     "text": [
      "Epoch 1/100\n",
      "\u001b[1m90/90\u001b[0m \u001b[32m━━━━━━━━━━━━━━━━━━━━\u001b[0m\u001b[37m\u001b[0m \u001b[1m78s\u001b[0m 821ms/step - accuracy: 0.8148 - loss: 0.4797 - val_accuracy: 0.8372 - val_loss: 0.4447\n",
      "Epoch 2/100\n",
      "\u001b[1m90/90\u001b[0m \u001b[32m━━━━━━━━━━━━━━━━━━━━\u001b[0m\u001b[37m\u001b[0m \u001b[1m75s\u001b[0m 836ms/step - accuracy: 0.8348 - loss: 0.4527 - val_accuracy: 0.8372 - val_loss: 0.4444\n",
      "Epoch 3/100\n",
      "\u001b[1m90/90\u001b[0m \u001b[32m━━━━━━━━━━━━━━━━━━━━\u001b[0m\u001b[37m\u001b[0m \u001b[1m76s\u001b[0m 841ms/step - accuracy: 0.8397 - loss: 0.4446 - val_accuracy: 0.8372 - val_loss: 0.4445\n",
      "Epoch 4/100\n",
      "\u001b[1m90/90\u001b[0m \u001b[32m━━━━━━━━━━━━━━━━━━━━\u001b[0m\u001b[37m\u001b[0m \u001b[1m80s\u001b[0m 820ms/step - accuracy: 0.8428 - loss: 0.4409 - val_accuracy: 0.8372 - val_loss: 0.4442\n",
      "Epoch 5/100\n",
      "\u001b[1m90/90\u001b[0m \u001b[32m━━━━━━━━━━━━━━━━━━━━\u001b[0m\u001b[37m\u001b[0m \u001b[1m75s\u001b[0m 833ms/step - accuracy: 0.8399 - loss: 0.4440 - val_accuracy: 0.8372 - val_loss: 0.4453\n",
      "Epoch 6/100\n",
      "\u001b[1m90/90\u001b[0m \u001b[32m━━━━━━━━━━━━━━━━━━━━\u001b[0m\u001b[37m\u001b[0m \u001b[1m73s\u001b[0m 816ms/step - accuracy: 0.8361 - loss: 0.4510 - val_accuracy: 0.8372 - val_loss: 0.4442\n",
      "Epoch 7/100\n",
      "\u001b[1m90/90\u001b[0m \u001b[32m━━━━━━━━━━━━━━━━━━━━\u001b[0m\u001b[37m\u001b[0m \u001b[1m73s\u001b[0m 815ms/step - accuracy: 0.8292 - loss: 0.4595 - val_accuracy: 0.8372 - val_loss: 0.4442\n",
      "Epoch 8/100\n",
      "\u001b[1m90/90\u001b[0m \u001b[32m━━━━━━━━━━━━━━━━━━━━\u001b[0m\u001b[37m\u001b[0m \u001b[1m72s\u001b[0m 806ms/step - accuracy: 0.8374 - loss: 0.4464 - val_accuracy: 0.8372 - val_loss: 0.4446\n",
      "Epoch 9/100\n",
      "\u001b[1m90/90\u001b[0m \u001b[32m━━━━━━━━━━━━━━━━━━━━\u001b[0m\u001b[37m\u001b[0m \u001b[1m72s\u001b[0m 805ms/step - accuracy: 0.8396 - loss: 0.4413 - val_accuracy: 0.8372 - val_loss: 0.4445\n",
      "Epoch 10/100\n",
      "\u001b[1m90/90\u001b[0m \u001b[32m━━━━━━━━━━━━━━━━━━━━\u001b[0m\u001b[37m\u001b[0m \u001b[1m82s\u001b[0m 807ms/step - accuracy: 0.8387 - loss: 0.4451 - val_accuracy: 0.8372 - val_loss: 0.4445\n",
      "Epoch 11/100\n",
      "\u001b[1m90/90\u001b[0m \u001b[32m━━━━━━━━━━━━━━━━━━━━\u001b[0m\u001b[37m\u001b[0m \u001b[1m73s\u001b[0m 813ms/step - accuracy: 0.8317 - loss: 0.4561 - val_accuracy: 0.8372 - val_loss: 0.4459\n",
      "Epoch 12/100\n",
      "\u001b[1m90/90\u001b[0m \u001b[32m━━━━━━━━━━━━━━━━━━━━\u001b[0m\u001b[37m\u001b[0m \u001b[1m76s\u001b[0m 842ms/step - accuracy: 0.8343 - loss: 0.4538 - val_accuracy: 0.8372 - val_loss: 0.4448\n",
      "Epoch 13/100\n",
      "\u001b[1m90/90\u001b[0m \u001b[32m━━━━━━━━━━━━━━━━━━━━\u001b[0m\u001b[37m\u001b[0m \u001b[1m74s\u001b[0m 818ms/step - accuracy: 0.8395 - loss: 0.4477 - val_accuracy: 0.8372 - val_loss: 0.4449\n",
      "Epoch 14/100\n",
      "\u001b[1m90/90\u001b[0m \u001b[32m━━━━━━━━━━━━━━━━━━━━\u001b[0m\u001b[37m\u001b[0m \u001b[1m84s\u001b[0m 840ms/step - accuracy: 0.8408 - loss: 0.4416 - val_accuracy: 0.8372 - val_loss: 0.4446\n",
      "Epoch 15/100\n",
      "\u001b[1m90/90\u001b[0m \u001b[32m━━━━━━━━━━━━━━━━━━━━\u001b[0m\u001b[37m\u001b[0m \u001b[1m76s\u001b[0m 842ms/step - accuracy: 0.8378 - loss: 0.4448 - val_accuracy: 0.8372 - val_loss: 0.4455\n",
      "Epoch 16/100\n",
      "\u001b[1m90/90\u001b[0m \u001b[32m━━━━━━━━━━━━━━━━━━━━\u001b[0m\u001b[37m\u001b[0m \u001b[1m79s\u001b[0m 883ms/step - accuracy: 0.8344 - loss: 0.4510 - val_accuracy: 0.8372 - val_loss: 0.4443\n",
      "Epoch 17/100\n",
      "\u001b[1m90/90\u001b[0m \u001b[32m━━━━━━━━━━━━━━━━━━━━\u001b[0m\u001b[37m\u001b[0m \u001b[1m73s\u001b[0m 814ms/step - accuracy: 0.8277 - loss: 0.4613 - val_accuracy: 0.8372 - val_loss: 0.4443\n",
      "Epoch 18/100\n",
      "\u001b[1m90/90\u001b[0m \u001b[32m━━━━━━━━━━━━━━━━━━━━\u001b[0m\u001b[37m\u001b[0m \u001b[1m74s\u001b[0m 821ms/step - accuracy: 0.8346 - loss: 0.4518 - val_accuracy: 0.8372 - val_loss: 0.4442\n",
      "Epoch 19/100\n",
      "\u001b[1m90/90\u001b[0m \u001b[32m━━━━━━━━━━━━━━━━━━━━\u001b[0m\u001b[37m\u001b[0m \u001b[1m82s\u001b[0m 818ms/step - accuracy: 0.8374 - loss: 0.4475 - val_accuracy: 0.8372 - val_loss: 0.4449\n",
      "Epoch 20/100\n",
      "\u001b[1m90/90\u001b[0m \u001b[32m━━━━━━━━━━━━━━━━━━━━\u001b[0m\u001b[37m\u001b[0m \u001b[1m73s\u001b[0m 808ms/step - accuracy: 0.8353 - loss: 0.4514 - val_accuracy: 0.8372 - val_loss: 0.4442\n",
      "Epoch 21/100\n",
      "\u001b[1m90/90\u001b[0m \u001b[32m━━━━━━━━━━━━━━━━━━━━\u001b[0m\u001b[37m\u001b[0m \u001b[1m73s\u001b[0m 814ms/step - accuracy: 0.8360 - loss: 0.4496 - val_accuracy: 0.8372 - val_loss: 0.4442\n",
      "Epoch 22/100\n",
      "\u001b[1m90/90\u001b[0m \u001b[32m━━━━━━━━━━━━━━━━━━━━\u001b[0m\u001b[37m\u001b[0m \u001b[1m74s\u001b[0m 823ms/step - accuracy: 0.8425 - loss: 0.4384 - val_accuracy: 0.8372 - val_loss: 0.4443\n",
      "Epoch 23/100\n",
      "\u001b[1m90/90\u001b[0m \u001b[32m━━━━━━━━━━━━━━━━━━━━\u001b[0m\u001b[37m\u001b[0m \u001b[1m80s\u001b[0m 798ms/step - accuracy: 0.8347 - loss: 0.4510 - val_accuracy: 0.8372 - val_loss: 0.4443\n",
      "Epoch 24/100\n",
      "\u001b[1m90/90\u001b[0m \u001b[32m━━━━━━━━━━━━━━━━━━━━\u001b[0m\u001b[37m\u001b[0m \u001b[1m73s\u001b[0m 815ms/step - accuracy: 0.8370 - loss: 0.4468 - val_accuracy: 0.8372 - val_loss: 0.4444\n",
      "Epoch 25/100\n",
      "\u001b[1m90/90\u001b[0m \u001b[32m━━━━━━━━━━━━━━━━━━━━\u001b[0m\u001b[37m\u001b[0m \u001b[1m86s\u001b[0m 864ms/step - accuracy: 0.8415 - loss: 0.4406 - val_accuracy: 0.8372 - val_loss: 0.4444\n",
      "Epoch 26/100\n",
      "\u001b[1m90/90\u001b[0m \u001b[32m━━━━━━━━━━━━━━━━━━━━\u001b[0m\u001b[37m\u001b[0m \u001b[1m73s\u001b[0m 813ms/step - accuracy: 0.8354 - loss: 0.4487 - val_accuracy: 0.8372 - val_loss: 0.4447\n",
      "Epoch 27/100\n",
      "\u001b[1m90/90\u001b[0m \u001b[32m━━━━━━━━━━━━━━━━━━━━\u001b[0m\u001b[37m\u001b[0m \u001b[1m76s\u001b[0m 845ms/step - accuracy: 0.8372 - loss: 0.4459 - val_accuracy: 0.8372 - val_loss: 0.4448\n",
      "Epoch 28/100\n",
      "\u001b[1m90/90\u001b[0m \u001b[32m━━━━━━━━━━━━━━━━━━━━\u001b[0m\u001b[37m\u001b[0m \u001b[1m73s\u001b[0m 816ms/step - accuracy: 0.8381 - loss: 0.4456 - val_accuracy: 0.8372 - val_loss: 0.4444\n",
      "Epoch 29/100\n",
      "\u001b[1m90/90\u001b[0m \u001b[32m━━━━━━━━━━━━━━━━━━━━\u001b[0m\u001b[37m\u001b[0m \u001b[1m73s\u001b[0m 806ms/step - accuracy: 0.8344 - loss: 0.4491 - val_accuracy: 0.8372 - val_loss: 0.4446\n",
      "Epoch 30/100\n",
      "\u001b[1m90/90\u001b[0m \u001b[32m━━━━━━━━━━━━━━━━━━━━\u001b[0m\u001b[37m\u001b[0m \u001b[1m74s\u001b[0m 821ms/step - accuracy: 0.8361 - loss: 0.4488 - val_accuracy: 0.8372 - val_loss: 0.4442\n",
      "Epoch 31/100\n",
      "\u001b[1m90/90\u001b[0m \u001b[32m━━━━━━━━━━━━━━━━━━━━\u001b[0m\u001b[37m\u001b[0m \u001b[1m81s\u001b[0m 807ms/step - accuracy: 0.8329 - loss: 0.4524 - val_accuracy: 0.8372 - val_loss: 0.4445\n",
      "Epoch 32/100\n",
      "\u001b[1m90/90\u001b[0m \u001b[32m━━━━━━━━━━━━━━━━━━━━\u001b[0m\u001b[37m\u001b[0m \u001b[1m82s\u001b[0m 812ms/step - accuracy: 0.8447 - loss: 0.4337 - val_accuracy: 0.8372 - val_loss: 0.4449\n",
      "Epoch 33/100\n",
      "\u001b[1m90/90\u001b[0m \u001b[32m━━━━━━━━━━━━━━━━━━━━\u001b[0m\u001b[37m\u001b[0m \u001b[1m72s\u001b[0m 801ms/step - accuracy: 0.8364 - loss: 0.4470 - val_accuracy: 0.8372 - val_loss: 0.4443\n",
      "Epoch 34/100\n",
      "\u001b[1m90/90\u001b[0m \u001b[32m━━━━━━━━━━━━━━━━━━━━\u001b[0m\u001b[37m\u001b[0m \u001b[1m81s\u001b[0m 794ms/step - accuracy: 0.8432 - loss: 0.4356 - val_accuracy: 0.8372 - val_loss: 0.4443\n",
      "Epoch 35/100\n",
      "\u001b[1m90/90\u001b[0m \u001b[32m━━━━━━━━━━━━━━━━━━━━\u001b[0m\u001b[37m\u001b[0m \u001b[1m82s\u001b[0m 797ms/step - accuracy: 0.8392 - loss: 0.4412 - val_accuracy: 0.8372 - val_loss: 0.4443\n",
      "Epoch 36/100\n",
      "\u001b[1m90/90\u001b[0m \u001b[32m━━━━━━━━━━━━━━━━━━━━\u001b[0m\u001b[37m\u001b[0m \u001b[1m71s\u001b[0m 794ms/step - accuracy: 0.8323 - loss: 0.4523 - val_accuracy: 0.8372 - val_loss: 0.4452\n",
      "Epoch 37/100\n",
      "\u001b[1m90/90\u001b[0m \u001b[32m━━━━━━━━━━━━━━━━━━━━\u001b[0m\u001b[37m\u001b[0m \u001b[1m72s\u001b[0m 798ms/step - accuracy: 0.8400 - loss: 0.4429 - val_accuracy: 0.8372 - val_loss: 0.4445\n",
      "Epoch 38/100\n",
      "\u001b[1m90/90\u001b[0m \u001b[32m━━━━━━━━━━━━━━━━━━━━\u001b[0m\u001b[37m\u001b[0m \u001b[1m77s\u001b[0m 856ms/step - accuracy: 0.8340 - loss: 0.4506 - val_accuracy: 0.8372 - val_loss: 0.4442\n",
      "Epoch 39/100\n",
      "\u001b[1m90/90\u001b[0m \u001b[32m━━━━━━━━━━━━━━━━━━━━\u001b[0m\u001b[37m\u001b[0m \u001b[1m77s\u001b[0m 850ms/step - accuracy: 0.8354 - loss: 0.4502 - val_accuracy: 0.8372 - val_loss: 0.4446\n",
      "Epoch 40/100\n",
      "\u001b[1m90/90\u001b[0m \u001b[32m━━━━━━━━━━━━━━━━━━━━\u001b[0m\u001b[37m\u001b[0m \u001b[1m71s\u001b[0m 793ms/step - accuracy: 0.8348 - loss: 0.4506 - val_accuracy: 0.8372 - val_loss: 0.4445\n",
      "Epoch 41/100\n",
      "\u001b[1m90/90\u001b[0m \u001b[32m━━━━━━━━━━━━━━━━━━━━\u001b[0m\u001b[37m\u001b[0m \u001b[1m72s\u001b[0m 797ms/step - accuracy: 0.8331 - loss: 0.4523 - val_accuracy: 0.8372 - val_loss: 0.4445\n",
      "Epoch 42/100\n",
      "\u001b[1m90/90\u001b[0m \u001b[32m━━━━━━━━━━━━━━━━━━━━\u001b[0m\u001b[37m\u001b[0m \u001b[1m82s\u001b[0m 792ms/step - accuracy: 0.8411 - loss: 0.4389 - val_accuracy: 0.8372 - val_loss: 0.4449\n",
      "Epoch 43/100\n",
      "\u001b[1m90/90\u001b[0m \u001b[32m━━━━━━━━━━━━━━━━━━━━\u001b[0m\u001b[37m\u001b[0m \u001b[1m87s\u001b[0m 854ms/step - accuracy: 0.8370 - loss: 0.4462 - val_accuracy: 0.8372 - val_loss: 0.4443\n",
      "Epoch 44/100\n",
      "\u001b[1m90/90\u001b[0m \u001b[32m━━━━━━━━━━━━━━━━━━━━\u001b[0m\u001b[37m\u001b[0m \u001b[1m77s\u001b[0m 798ms/step - accuracy: 0.8389 - loss: 0.4431 - val_accuracy: 0.8372 - val_loss: 0.4453\n",
      "Epoch 45/100\n",
      "\u001b[1m90/90\u001b[0m \u001b[32m━━━━━━━━━━━━━━━━━━━━\u001b[0m\u001b[37m\u001b[0m \u001b[1m77s\u001b[0m 851ms/step - accuracy: 0.8319 - loss: 0.4544 - val_accuracy: 0.8372 - val_loss: 0.4443\n",
      "Epoch 46/100\n",
      "\u001b[1m90/90\u001b[0m \u001b[32m━━━━━━━━━━━━━━━━━━━━\u001b[0m\u001b[37m\u001b[0m \u001b[1m72s\u001b[0m 797ms/step - accuracy: 0.8392 - loss: 0.4434 - val_accuracy: 0.8372 - val_loss: 0.4449\n",
      "Epoch 47/100\n",
      "\u001b[1m90/90\u001b[0m \u001b[32m━━━━━━━━━━━━━━━━━━━━\u001b[0m\u001b[37m\u001b[0m \u001b[1m72s\u001b[0m 799ms/step - accuracy: 0.8387 - loss: 0.4444 - val_accuracy: 0.8372 - val_loss: 0.4442\n",
      "Epoch 48/100\n",
      "\u001b[1m90/90\u001b[0m \u001b[32m━━━━━━━━━━━━━━━━━━━━\u001b[0m\u001b[37m\u001b[0m \u001b[1m77s\u001b[0m 860ms/step - accuracy: 0.8397 - loss: 0.4408 - val_accuracy: 0.8372 - val_loss: 0.4442\n",
      "Epoch 49/100\n",
      "\u001b[1m90/90\u001b[0m \u001b[32m━━━━━━━━━━━━━━━━━━━━\u001b[0m\u001b[37m\u001b[0m \u001b[1m72s\u001b[0m 799ms/step - accuracy: 0.8354 - loss: 0.4483 - val_accuracy: 0.8372 - val_loss: 0.4442\n",
      "Epoch 50/100\n",
      "\u001b[1m90/90\u001b[0m \u001b[32m━━━━━━━━━━━━━━━━━━━━\u001b[0m\u001b[37m\u001b[0m \u001b[1m73s\u001b[0m 816ms/step - accuracy: 0.8351 - loss: 0.4479 - val_accuracy: 0.8372 - val_loss: 0.4444\n",
      "Epoch 51/100\n",
      "\u001b[1m90/90\u001b[0m \u001b[32m━━━━━━━━━━━━━━━━━━━━\u001b[0m\u001b[37m\u001b[0m \u001b[1m75s\u001b[0m 830ms/step - accuracy: 0.8365 - loss: 0.4474 - val_accuracy: 0.8372 - val_loss: 0.4448\n",
      "Epoch 52/100\n",
      "\u001b[1m90/90\u001b[0m \u001b[32m━━━━━━━━━━━━━━━━━━━━\u001b[0m\u001b[37m\u001b[0m \u001b[1m74s\u001b[0m 825ms/step - accuracy: 0.8375 - loss: 0.4454 - val_accuracy: 0.8372 - val_loss: 0.4442\n",
      "Epoch 53/100\n",
      "\u001b[1m90/90\u001b[0m \u001b[32m━━━━━━━━━━━━━━━━━━━━\u001b[0m\u001b[37m\u001b[0m \u001b[1m72s\u001b[0m 805ms/step - accuracy: 0.8381 - loss: 0.4456 - val_accuracy: 0.8372 - val_loss: 0.4442\n",
      "Epoch 54/100\n",
      "\u001b[1m90/90\u001b[0m \u001b[32m━━━━━━━━━━━━━━━━━━━━\u001b[0m\u001b[37m\u001b[0m \u001b[1m73s\u001b[0m 814ms/step - accuracy: 0.8364 - loss: 0.4469 - val_accuracy: 0.8372 - val_loss: 0.4444\n",
      "Epoch 55/100\n",
      "\u001b[1m90/90\u001b[0m \u001b[32m━━━━━━━━━━━━━━━━━━━━\u001b[0m\u001b[37m\u001b[0m \u001b[1m73s\u001b[0m 816ms/step - accuracy: 0.8394 - loss: 0.4421 - val_accuracy: 0.8372 - val_loss: 0.4451\n",
      "Epoch 56/100\n",
      "\u001b[1m90/90\u001b[0m \u001b[32m━━━━━━━━━━━━━━━━━━━━\u001b[0m\u001b[37m\u001b[0m \u001b[1m72s\u001b[0m 803ms/step - accuracy: 0.8419 - loss: 0.4378 - val_accuracy: 0.8372 - val_loss: 0.4447\n",
      "Epoch 57/100\n",
      "\u001b[1m90/90\u001b[0m \u001b[32m━━━━━━━━━━━━━━━━━━━━\u001b[0m\u001b[37m\u001b[0m \u001b[1m74s\u001b[0m 824ms/step - accuracy: 0.8373 - loss: 0.4454 - val_accuracy: 0.8372 - val_loss: 0.4443\n",
      "Epoch 58/100\n",
      "\u001b[1m90/90\u001b[0m \u001b[32m━━━━━━━━━━━━━━━━━━━━\u001b[0m\u001b[37m\u001b[0m \u001b[1m81s\u001b[0m 813ms/step - accuracy: 0.8430 - loss: 0.4355 - val_accuracy: 0.8372 - val_loss: 0.4444\n",
      "Epoch 59/100\n",
      "\u001b[1m90/90\u001b[0m \u001b[32m━━━━━━━━━━━━━━━━━━━━\u001b[0m\u001b[37m\u001b[0m \u001b[1m78s\u001b[0m 871ms/step - accuracy: 0.8355 - loss: 0.4482 - val_accuracy: 0.8372 - val_loss: 0.4442\n",
      "Epoch 60/100\n",
      "\u001b[1m90/90\u001b[0m \u001b[32m━━━━━━━━━━━━━━━━━━━━\u001b[0m\u001b[37m\u001b[0m \u001b[1m82s\u001b[0m 916ms/step - accuracy: 0.8343 - loss: 0.4497 - val_accuracy: 0.8372 - val_loss: 0.4442\n",
      "Epoch 61/100\n",
      "\u001b[1m90/90\u001b[0m \u001b[32m━━━━━━━━━━━━━━━━━━━━\u001b[0m\u001b[37m\u001b[0m \u001b[1m76s\u001b[0m 849ms/step - accuracy: 0.8395 - loss: 0.4415 - val_accuracy: 0.8372 - val_loss: 0.4450\n",
      "Epoch 62/100\n",
      "\u001b[1m90/90\u001b[0m \u001b[32m━━━━━━━━━━━━━━━━━━━━\u001b[0m\u001b[37m\u001b[0m \u001b[1m75s\u001b[0m 833ms/step - accuracy: 0.8372 - loss: 0.4459 - val_accuracy: 0.8372 - val_loss: 0.4443\n",
      "Epoch 63/100\n",
      "\u001b[1m90/90\u001b[0m \u001b[32m━━━━━━━━━━━━━━━━━━━━\u001b[0m\u001b[37m\u001b[0m \u001b[1m74s\u001b[0m 819ms/step - accuracy: 0.8399 - loss: 0.4410 - val_accuracy: 0.8372 - val_loss: 0.4444\n",
      "Epoch 64/100\n",
      "\u001b[1m90/90\u001b[0m \u001b[32m━━━━━━━━━━━━━━━━━━━━\u001b[0m\u001b[37m\u001b[0m \u001b[1m72s\u001b[0m 796ms/step - accuracy: 0.8313 - loss: 0.4560 - val_accuracy: 0.8372 - val_loss: 0.4442\n",
      "Epoch 65/100\n",
      "\u001b[1m90/90\u001b[0m \u001b[32m━━━━━━━━━━━━━━━━━━━━\u001b[0m\u001b[37m\u001b[0m \u001b[1m74s\u001b[0m 817ms/step - accuracy: 0.8314 - loss: 0.4548 - val_accuracy: 0.8372 - val_loss: 0.4443\n",
      "Epoch 66/100\n",
      "\u001b[1m90/90\u001b[0m \u001b[32m━━━━━━━━━━━━━━━━━━━━\u001b[0m\u001b[37m\u001b[0m \u001b[1m72s\u001b[0m 805ms/step - accuracy: 0.8319 - loss: 0.4544 - val_accuracy: 0.8372 - val_loss: 0.4442\n",
      "Epoch 67/100\n",
      "\u001b[1m90/90\u001b[0m \u001b[32m━━━━━━━━━━━━━━━━━━━━\u001b[0m\u001b[37m\u001b[0m \u001b[1m73s\u001b[0m 816ms/step - accuracy: 0.8355 - loss: 0.4486 - val_accuracy: 0.8372 - val_loss: 0.4445\n",
      "Epoch 68/100\n",
      "\u001b[1m90/90\u001b[0m \u001b[32m━━━━━━━━━━━━━━━━━━━━\u001b[0m\u001b[37m\u001b[0m \u001b[1m73s\u001b[0m 807ms/step - accuracy: 0.8396 - loss: 0.4411 - val_accuracy: 0.8372 - val_loss: 0.4449\n",
      "Epoch 69/100\n",
      "\u001b[1m90/90\u001b[0m \u001b[32m━━━━━━━━━━━━━━━━━━━━\u001b[0m\u001b[37m\u001b[0m \u001b[1m92s\u001b[0m 923ms/step - accuracy: 0.8390 - loss: 0.4423 - val_accuracy: 0.8372 - val_loss: 0.4447\n",
      "Epoch 70/100\n",
      "\u001b[1m90/90\u001b[0m \u001b[32m━━━━━━━━━━━━━━━━━━━━\u001b[0m\u001b[37m\u001b[0m \u001b[1m140s\u001b[0m 895ms/step - accuracy: 0.8339 - loss: 0.4495 - val_accuracy: 0.8372 - val_loss: 0.4442\n",
      "Epoch 71/100\n",
      "\u001b[1m90/90\u001b[0m \u001b[32m━━━━━━━━━━━━━━━━━━━━\u001b[0m\u001b[37m\u001b[0m \u001b[1m82s\u001b[0m 908ms/step - accuracy: 0.8364 - loss: 0.4460 - val_accuracy: 0.8372 - val_loss: 0.4443\n",
      "Epoch 72/100\n",
      "\u001b[1m90/90\u001b[0m \u001b[32m━━━━━━━━━━━━━━━━━━━━\u001b[0m\u001b[37m\u001b[0m \u001b[1m78s\u001b[0m 867ms/step - accuracy: 0.8368 - loss: 0.4454 - val_accuracy: 0.8372 - val_loss: 0.4445\n",
      "Epoch 73/100\n",
      "\u001b[1m90/90\u001b[0m \u001b[32m━━━━━━━━━━━━━━━━━━━━\u001b[0m\u001b[37m\u001b[0m \u001b[1m82s\u001b[0m 909ms/step - accuracy: 0.8398 - loss: 0.4408 - val_accuracy: 0.8372 - val_loss: 0.4443\n",
      "Epoch 74/100\n",
      "\u001b[1m90/90\u001b[0m \u001b[32m━━━━━━━━━━━━━━━━━━━━\u001b[0m\u001b[37m\u001b[0m \u001b[1m82s\u001b[0m 911ms/step - accuracy: 0.8344 - loss: 0.4504 - val_accuracy: 0.8372 - val_loss: 0.4442\n",
      "Epoch 75/100\n",
      "\u001b[1m90/90\u001b[0m \u001b[32m━━━━━━━━━━━━━━━━━━━━\u001b[0m\u001b[37m\u001b[0m \u001b[1m77s\u001b[0m 859ms/step - accuracy: 0.8391 - loss: 0.4425 - val_accuracy: 0.8372 - val_loss: 0.4443\n",
      "Epoch 76/100\n",
      "\u001b[1m90/90\u001b[0m \u001b[32m━━━━━━━━━━━━━━━━━━━━\u001b[0m\u001b[37m\u001b[0m \u001b[1m76s\u001b[0m 842ms/step - accuracy: 0.8397 - loss: 0.4404 - val_accuracy: 0.8372 - val_loss: 0.4450\n",
      "Epoch 77/100\n",
      "\u001b[1m90/90\u001b[0m \u001b[32m━━━━━━━━━━━━━━━━━━━━\u001b[0m\u001b[37m\u001b[0m \u001b[1m75s\u001b[0m 837ms/step - accuracy: 0.8411 - loss: 0.4390 - val_accuracy: 0.8372 - val_loss: 0.4442\n",
      "Epoch 78/100\n",
      "\u001b[1m90/90\u001b[0m \u001b[32m━━━━━━━━━━━━━━━━━━━━\u001b[0m\u001b[37m\u001b[0m \u001b[1m81s\u001b[0m 906ms/step - accuracy: 0.8326 - loss: 0.4523 - val_accuracy: 0.8372 - val_loss: 0.4443\n",
      "Epoch 79/100\n",
      "\u001b[1m90/90\u001b[0m \u001b[32m━━━━━━━━━━━━━━━━━━━━\u001b[0m\u001b[37m\u001b[0m \u001b[1m73s\u001b[0m 810ms/step - accuracy: 0.8353 - loss: 0.4479 - val_accuracy: 0.8372 - val_loss: 0.4443\n",
      "Epoch 80/100\n",
      "\u001b[1m90/90\u001b[0m \u001b[32m━━━━━━━━━━━━━━━━━━━━\u001b[0m\u001b[37m\u001b[0m \u001b[1m73s\u001b[0m 812ms/step - accuracy: 0.8385 - loss: 0.4420 - val_accuracy: 0.8372 - val_loss: 0.4424\n",
      "Epoch 81/100\n",
      "\u001b[1m90/90\u001b[0m \u001b[32m━━━━━━━━━━━━━━━━━━━━\u001b[0m\u001b[37m\u001b[0m \u001b[1m75s\u001b[0m 837ms/step - accuracy: 0.8360 - loss: 0.4455 - val_accuracy: 0.8372 - val_loss: 0.4443\n",
      "Epoch 82/100\n",
      "\u001b[1m90/90\u001b[0m \u001b[32m━━━━━━━━━━━━━━━━━━━━\u001b[0m\u001b[37m\u001b[0m \u001b[1m81s\u001b[0m 824ms/step - accuracy: 0.8342 - loss: 0.4494 - val_accuracy: 0.8372 - val_loss: 0.4440\n",
      "Epoch 83/100\n",
      "\u001b[1m90/90\u001b[0m \u001b[32m━━━━━━━━━━━━━━━━━━━━\u001b[0m\u001b[37m\u001b[0m \u001b[1m81s\u001b[0m 818ms/step - accuracy: 0.8357 - loss: 0.4447 - val_accuracy: 0.8372 - val_loss: 0.4442\n",
      "Epoch 84/100\n",
      "\u001b[1m90/90\u001b[0m \u001b[32m━━━━━━━━━━━━━━━━━━━━\u001b[0m\u001b[37m\u001b[0m \u001b[1m80s\u001b[0m 888ms/step - accuracy: 0.8339 - loss: 0.4497 - val_accuracy: 0.8372 - val_loss: 0.4436\n",
      "Epoch 85/100\n",
      "\u001b[1m90/90\u001b[0m \u001b[32m━━━━━━━━━━━━━━━━━━━━\u001b[0m\u001b[37m\u001b[0m \u001b[1m73s\u001b[0m 806ms/step - accuracy: 0.8378 - loss: 0.4418 - val_accuracy: 0.8372 - val_loss: 0.4444\n",
      "Epoch 86/100\n",
      "\u001b[1m90/90\u001b[0m \u001b[32m━━━━━━━━━━━━━━━━━━━━\u001b[0m\u001b[37m\u001b[0m \u001b[1m72s\u001b[0m 798ms/step - accuracy: 0.8378 - loss: 0.4428 - val_accuracy: 0.8372 - val_loss: 0.4449\n",
      "Epoch 87/100\n",
      "\u001b[1m90/90\u001b[0m \u001b[32m━━━━━━━━━━━━━━━━━━━━\u001b[0m\u001b[37m\u001b[0m \u001b[1m81s\u001b[0m 788ms/step - accuracy: 0.8323 - loss: 0.4521 - val_accuracy: 0.8372 - val_loss: 0.4453\n",
      "Epoch 88/100\n",
      "\u001b[1m90/90\u001b[0m \u001b[32m━━━━━━━━━━━━━━━━━━━━\u001b[0m\u001b[37m\u001b[0m \u001b[1m71s\u001b[0m 786ms/step - accuracy: 0.8408 - loss: 0.4374 - val_accuracy: 0.8372 - val_loss: 0.4454\n",
      "Epoch 89/100\n",
      "\u001b[1m90/90\u001b[0m \u001b[32m━━━━━━━━━━━━━━━━━━━━\u001b[0m\u001b[37m\u001b[0m \u001b[1m72s\u001b[0m 797ms/step - accuracy: 0.8294 - loss: 0.4560 - val_accuracy: 0.8372 - val_loss: 0.4454\n",
      "Epoch 90/100\n",
      "\u001b[1m90/90\u001b[0m \u001b[32m━━━━━━━━━━━━━━━━━━━━\u001b[0m\u001b[37m\u001b[0m \u001b[1m71s\u001b[0m 791ms/step - accuracy: 0.8399 - loss: 0.4394 - val_accuracy: 0.8372 - val_loss: 0.4464\n",
      "Epoch 91/100\n",
      "\u001b[1m90/90\u001b[0m \u001b[32m━━━━━━━━━━━━━━━━━━━━\u001b[0m\u001b[37m\u001b[0m \u001b[1m71s\u001b[0m 788ms/step - accuracy: 0.8373 - loss: 0.4431 - val_accuracy: 0.8372 - val_loss: 0.4469\n",
      "Epoch 92/100\n",
      "\u001b[1m90/90\u001b[0m \u001b[32m━━━━━━━━━━━━━━━━━━━━\u001b[0m\u001b[37m\u001b[0m \u001b[1m82s\u001b[0m 794ms/step - accuracy: 0.8402 - loss: 0.4390 - val_accuracy: 0.8372 - val_loss: 0.4467\n",
      "Epoch 93/100\n",
      "\u001b[1m90/90\u001b[0m \u001b[32m━━━━━━━━━━━━━━━━━━━━\u001b[0m\u001b[37m\u001b[0m \u001b[1m70s\u001b[0m 782ms/step - accuracy: 0.8357 - loss: 0.4462 - val_accuracy: 0.8372 - val_loss: 0.4465\n",
      "Epoch 94/100\n",
      "\u001b[1m90/90\u001b[0m \u001b[32m━━━━━━━━━━━━━━━━━━━━\u001b[0m\u001b[37m\u001b[0m \u001b[1m82s\u001b[0m 785ms/step - accuracy: 0.8401 - loss: 0.4385 - val_accuracy: 0.8372 - val_loss: 0.4474\n",
      "Epoch 95/100\n",
      "\u001b[1m90/90\u001b[0m \u001b[32m━━━━━━━━━━━━━━━━━━━━\u001b[0m\u001b[37m\u001b[0m \u001b[1m70s\u001b[0m 781ms/step - accuracy: 0.8360 - loss: 0.4455 - val_accuracy: 0.8372 - val_loss: 0.4482\n",
      "Epoch 96/100\n",
      "\u001b[1m90/90\u001b[0m \u001b[32m━━━━━━━━━━━━━━━━━━━━\u001b[0m\u001b[37m\u001b[0m \u001b[1m72s\u001b[0m 798ms/step - accuracy: 0.8384 - loss: 0.4416 - val_accuracy: 0.8372 - val_loss: 0.4442\n",
      "Epoch 97/100\n",
      "\u001b[1m90/90\u001b[0m \u001b[32m━━━━━━━━━━━━━━━━━━━━\u001b[0m\u001b[37m\u001b[0m \u001b[1m75s\u001b[0m 830ms/step - accuracy: 0.8431 - loss: 0.4337 - val_accuracy: 0.8372 - val_loss: 0.4450\n",
      "Epoch 98/100\n",
      "\u001b[1m90/90\u001b[0m \u001b[32m━━━━━━━━━━━━━━━━━━━━\u001b[0m\u001b[37m\u001b[0m \u001b[1m79s\u001b[0m 874ms/step - accuracy: 0.8281 - loss: 0.4578 - val_accuracy: 0.8372 - val_loss: 0.4470\n",
      "Epoch 99/100\n",
      "\u001b[1m90/90\u001b[0m \u001b[32m━━━━━━━━━━━━━━━━━━━━\u001b[0m\u001b[37m\u001b[0m \u001b[1m75s\u001b[0m 836ms/step - accuracy: 0.8433 - loss: 0.4336 - val_accuracy: 0.8372 - val_loss: 0.4448\n",
      "Epoch 100/100\n",
      "\u001b[1m90/90\u001b[0m \u001b[32m━━━━━━━━━━━━━━━━━━━━\u001b[0m\u001b[37m\u001b[0m \u001b[1m82s\u001b[0m 842ms/step - accuracy: 0.8373 - loss: 0.4425 - val_accuracy: 0.8372 - val_loss: 0.4465\n"
     ]
    }
   ],
   "source": [
    "epochs = 100  # More epochs for better learning\n",
    "history = model.fit(X_train, y_train, validation_data=(X_test, y_test), epochs=epochs, batch_size=128)"
   ]
  },
  {
   "cell_type": "markdown",
   "id": "3ecc11e3",
   "metadata": {
    "papermill": {
     "duration": 0.387514,
     "end_time": "2025-03-02T13:05:40.856276",
     "exception": false,
     "start_time": "2025-03-02T13:05:40.468762",
     "status": "completed"
    },
    "tags": []
   },
   "source": [
    "## Plot training results"
   ]
  },
  {
   "cell_type": "code",
   "execution_count": 14,
   "id": "7396a3cd",
   "metadata": {
    "execution": {
     "iopub.execute_input": "2025-03-02T13:05:41.642392Z",
     "iopub.status.busy": "2025-03-02T13:05:41.641987Z",
     "iopub.status.idle": "2025-03-02T13:05:41.963069Z",
     "shell.execute_reply": "2025-03-02T13:05:41.962109Z"
    },
    "papermill": {
     "duration": 0.713198,
     "end_time": "2025-03-02T13:05:41.964930",
     "exception": false,
     "start_time": "2025-03-02T13:05:41.251732",
     "status": "completed"
    },
    "tags": []
   },
   "outputs": [
    {
     "data": {
      "image/png": "[encoded data removed]",
      "text/plain": [
       "<Figure size 1000x500 with 1 Axes>"
      ]
     },
     "metadata": {},
     "output_type": "display_data"
    }
   ],
   "source": [
    "plt.figure(figsize=(10,5))\n",
    "plt.plot(history.history['accuracy'], label='Training Accuracy')\n",
    "plt.plot(history.history['val_accuracy'], label='Validation Accuracy')\n",
    "plt.xlabel('Epochs')\n",
    "plt.ylabel('Accuracy')\n",
    "plt.legend()\n",
    "plt.title('LSTM Model Training Performance')\n",
    "plt.show()"
   ]
  },
  {
   "cell_type": "markdown",
   "id": "441e3eaa",
   "metadata": {
    "papermill": {
     "duration": 0.381077,
     "end_time": "2025-03-02T13:05:42.818187",
     "exception": false,
     "start_time": "2025-03-02T13:05:42.437110",
     "status": "completed"
    },
    "tags": []
   },
   "source": [
    "# MODEL EVALUATION"
   ]
  },
  {
   "cell_type": "code",
   "execution_count": 15,
   "id": "ba9feb73",
   "metadata": {
    "execution": {
     "iopub.execute_input": "2025-03-02T13:05:43.673041Z",
     "iopub.status.busy": "2025-03-02T13:05:43.672604Z",
     "iopub.status.idle": "2025-03-02T13:05:53.771953Z",
     "shell.execute_reply": "2025-03-02T13:05:53.770865Z"
    },
    "papermill": {
     "duration": 10.571838,
     "end_time": "2025-03-02T13:05:53.773592",
     "exception": false,
     "start_time": "2025-03-02T13:05:43.201754",
     "status": "completed"
    },
    "tags": []
   },
   "outputs": [
    {
     "name": "stdout",
     "output_type": "stream",
     "text": [
      "\u001b[1m90/90\u001b[0m \u001b[32m━━━━━━━━━━━━━━━━━━━━\u001b[0m\u001b[37m\u001b[0m \u001b[1m10s\u001b[0m 106ms/step\n"
     ]
    }
   ],
   "source": [
    "y_pred = model.predict(X_test)\n",
    "y_pred_classes = np.argmax(y_pred, axis=1)\n",
    "y_true_classes = np.argmax(y_test, axis=1)"
   ]
  },
  {
   "cell_type": "markdown",
   "id": "dd79eda5",
   "metadata": {
    "papermill": {
     "duration": 0.394409,
     "end_time": "2025-03-02T13:05:54.555066",
     "exception": false,
     "start_time": "2025-03-02T13:05:54.160657",
     "status": "completed"
    },
    "tags": []
   },
   "source": [
    "## Confusion Matrix"
   ]
  },
  {
   "cell_type": "code",
   "execution_count": 16,
   "id": "22624c41",
   "metadata": {
    "execution": {
     "iopub.execute_input": "2025-03-02T13:05:55.429621Z",
     "iopub.status.busy": "2025-03-02T13:05:55.429311Z",
     "iopub.status.idle": "2025-03-02T13:05:56.291056Z",
     "shell.execute_reply": "2025-03-02T13:05:56.289812Z"
    },
    "papermill": {
     "duration": 1.259009,
     "end_time": "2025-03-02T13:05:56.292308",
     "exception": false,
     "start_time": "2025-03-02T13:05:55.033299",
     "status": "completed"
    },
    "tags": []
   },
   "outputs": [
    {
     "data": {
      "image/png": "[encoded data removed]",
      "text/plain": [
       "<Figure size 600x600 with 2 Axes>"
      ]
     },
     "metadata": {},
     "output_type": "display_data"
    }
   ],
   "source": [
    "conf_matrix = confusion_matrix(y_true_classes, y_pred_classes)\n",
    "plt.figure(figsize=(6,6))\n",
    "sns.heatmap(conf_matrix, annot=True, fmt='d', cmap='Blues', xticklabels=label_encoder.classes_, yticklabels=label_encoder.classes_)\n",
    "plt.xlabel('Predicted')\n",
    "plt.ylabel('Actual')\n",
    "plt.title('Confusion Matrix Heatmap')\n",
    "plt.show()"
   ]
  },
  {
   "cell_type": "markdown",
   "id": "67789019",
   "metadata": {
    "papermill": {
     "duration": 0.470035,
     "end_time": "2025-03-02T13:05:57.146268",
     "exception": false,
     "start_time": "2025-03-02T13:05:56.676233",
     "status": "completed"
    },
    "tags": []
   },
   "source": [
    "## Classification Report"
   ]
  },
  {
   "cell_type": "code",
   "execution_count": 17,
   "id": "e2dc1650",
   "metadata": {
    "execution": {
     "iopub.execute_input": "2025-03-02T13:05:57.931270Z",
     "iopub.status.busy": "2025-03-02T13:05:57.930829Z",
     "iopub.status.idle": "2025-03-02T13:05:57.948801Z",
     "shell.execute_reply": "2025-03-02T13:05:57.947596Z"
    },
    "papermill": {
     "duration": 0.41749,
     "end_time": "2025-03-02T13:05:57.950798",
     "exception": false,
     "start_time": "2025-03-02T13:05:57.533308",
     "status": "completed"
    },
    "tags": []
   },
   "outputs": [
    {
     "name": "stdout",
     "output_type": "stream",
     "text": [
      "Classification Report:\n",
      "               precision    recall  f1-score   support\n",
      "\n",
      "    negative       0.00      0.00      0.00       465\n",
      "    positive       0.84      1.00      0.91      2392\n",
      "\n",
      "    accuracy                           0.84      2857\n",
      "   macro avg       0.42      0.50      0.46      2857\n",
      "weighted avg       0.70      0.84      0.76      2857\n",
      "\n"
     ]
    },
    {
     "name": "stderr",
     "output_type": "stream",
     "text": [
      "/usr/local/lib/python3.10/dist-packages/sklearn/metrics/_classification.py:1344: UndefinedMetricWarning: Precision and F-score are ill-defined and being set to 0.0 in labels with no predicted samples. Use `zero_division` parameter to control this behavior.\n",
      "  _warn_prf(average, modifier, msg_start, len(result))\n",
      "/usr/local/lib/python3.10/dist-packages/sklearn/metrics/_classification.py:1344: UndefinedMetricWarning: Precision and F-score are ill-defined and being set to 0.0 in labels with no predicted samples. Use `zero_division` parameter to control this behavior.\n",
      "  _warn_prf(average, modifier, msg_start, len(result))\n",
      "/usr/local/lib/python3.10/dist-packages/sklearn/metrics/_classification.py:1344: UndefinedMetricWarning: Precision and F-score are ill-defined and being set to 0.0 in labels with no predicted samples. Use `zero_division` parameter to control this behavior.\n",
      "  _warn_prf(average, modifier, msg_start, len(result))\n"
     ]
    }
   ],
   "source": [
    "print(\"Classification Report:\\n\", classification_report(y_true_classes, y_pred_classes, target_names=label_encoder.classes_))"
   ]
  },
  {
   "cell_type": "markdown",
   "id": "77cd6fc3",
   "metadata": {
    "papermill": {
     "duration": 0.396597,
     "end_time": "2025-03-02T13:05:58.828873",
     "exception": false,
     "start_time": "2025-03-02T13:05:58.432276",
     "status": "completed"
    },
    "tags": []
   },
   "source": [
    "## SENTIMENT PREDICTION FUNCTION"
   ]
  },
  {
   "cell_type": "code",
   "execution_count": 18,
   "id": "dbfb740d",
   "metadata": {
    "execution": {
     "iopub.execute_input": "2025-03-02T13:05:59.608160Z",
     "iopub.status.busy": "2025-03-02T13:05:59.607714Z",
     "iopub.status.idle": "2025-03-02T13:05:59.613728Z",
     "shell.execute_reply": "2025-03-02T13:05:59.612696Z"
    },
    "papermill": {
     "duration": 0.396567,
     "end_time": "2025-03-02T13:05:59.615447",
     "exception": false,
     "start_time": "2025-03-02T13:05:59.218880",
     "status": "completed"
    },
    "tags": []
   },
   "outputs": [],
   "source": [
    "def predict_sentiment(comment):\n",
    "    comment = clean_text(comment)  # Clean the input comment\n",
    "    seq = tokenizer.texts_to_sequences([comment])\n",
    "    padded = pad_sequences(seq, maxlen=max_length, padding='post', truncating='post')\n",
    "    prediction = model.predict(padded)[0]\n",
    "    return label_encoder.inverse_transform([np.argmax(prediction)])[0]"
   ]
  },
  {
   "cell_type": "markdown",
   "id": "04a04da0",
   "metadata": {
    "papermill": {
     "duration": 0.397467,
     "end_time": "2025-03-02T13:06:00.504426",
     "exception": false,
     "start_time": "2025-03-02T13:06:00.106959",
     "status": "completed"
    },
    "tags": []
   },
   "source": [
    "# EXAMPLE PREDICTIONS (RU & EN)"
   ]
  },
  {
   "cell_type": "code",
   "execution_count": 19,
   "id": "4793aae2",
   "metadata": {
    "execution": {
     "iopub.execute_input": "2025-03-02T13:06:01.293780Z",
     "iopub.status.busy": "2025-03-02T13:06:01.293329Z",
     "iopub.status.idle": "2025-03-02T13:06:02.208418Z",
     "shell.execute_reply": "2025-03-02T13:06:02.207215Z"
    },
    "papermill": {
     "duration": 1.311428,
     "end_time": "2025-03-02T13:06:02.210168",
     "exception": false,
     "start_time": "2025-03-02T13:06:00.898740",
     "status": "completed"
    },
    "tags": []
   },
   "outputs": [
    {
     "name": "stdout",
     "output_type": "stream",
     "text": [
      "\u001b[1m1/1\u001b[0m \u001b[32m━━━━━━━━━━━━━━━━━━━━\u001b[0m\u001b[37m\u001b[0m \u001b[1m0s\u001b[0m 47ms/step\n",
      "Comment (RU): Этот товар мне очень понравился, рекомендую!\n",
      "Comment (EN): I really liked this product, I recommend it!\n",
      "Sentiment: positive\n",
      "\n",
      "\u001b[1m1/1\u001b[0m \u001b[32m━━━━━━━━━━━━━━━━━━━━\u001b[0m\u001b[37m\u001b[0m \u001b[1m0s\u001b[0m 52ms/step\n",
      "Comment (RU): Качество ужасное, не стоит своих денег.\n",
      "Comment (EN): The quality is terrible, not worth the money.\n",
      "Sentiment: positive\n",
      "\n",
      "\u001b[1m1/1\u001b[0m \u001b[32m━━━━━━━━━━━━━━━━━━━━\u001b[0m\u001b[37m\u001b[0m \u001b[1m0s\u001b[0m 45ms/step\n",
      "Comment (RU): Ну, неплохо, но ожидал лучшего.\n",
      "Comment (EN): Well, not bad, but I expected better.\n",
      "Sentiment: positive\n",
      "\n",
      "\u001b[1m1/1\u001b[0m \u001b[32m━━━━━━━━━━━━━━━━━━━━\u001b[0m\u001b[37m\u001b[0m \u001b[1m0s\u001b[0m 44ms/step\n",
      "Comment (RU): После покупки я разочарован, не советую.\n",
      "Comment (EN): After purchase, I'm disappointed, don't recommend.\n",
      "Sentiment: positive\n",
      "\n",
      "\u001b[1m1/1\u001b[0m \u001b[32m━━━━━━━━━━━━━━━━━━━━\u001b[0m\u001b[37m\u001b[0m \u001b[1m0s\u001b[0m 46ms/step\n",
      "Comment (RU): Это лучшая вещь, что я когда-либо покупал!\n",
      "Comment (EN): This is the best thing I have ever bought!\n",
      "Sentiment: positive\n",
      "\n",
      "\u001b[1m1/1\u001b[0m \u001b[32m━━━━━━━━━━━━━━━━━━━━\u001b[0m\u001b[37m\u001b[0m \u001b[1m0s\u001b[0m 46ms/step\n",
      "Comment (RU): Выглядит хорошо, но есть некоторые недостатки.\n",
      "Comment (EN): Looks good, but has some drawbacks.\n",
      "Sentiment: positive\n",
      "\n",
      "\u001b[1m1/1\u001b[0m \u001b[32m━━━━━━━━━━━━━━━━━━━━\u001b[0m\u001b[37m\u001b[0m \u001b[1m0s\u001b[0m 46ms/step\n",
      "Comment (RU): Категорически не рекомендую, ужасное качество.\n",
      "Comment (EN): Absolutely do not recommend, terrible quality.\n",
      "Sentiment: positive\n",
      "\n",
      "\u001b[1m1/1\u001b[0m \u001b[32m━━━━━━━━━━━━━━━━━━━━\u001b[0m\u001b[37m\u001b[0m \u001b[1m0s\u001b[0m 49ms/step\n",
      "Comment (RU): Описание точное, товар полностью соответствует.\n",
      "Comment (EN): The description is accurate, the product matches perfectly.\n",
      "Sentiment: positive\n",
      "\n",
      "\u001b[1m1/1\u001b[0m \u001b[32m━━━━━━━━━━━━━━━━━━━━\u001b[0m\u001b[37m\u001b[0m \u001b[1m0s\u001b[0m 47ms/step\n",
      "Comment (RU): Не знаю, что сказать, нормально, но не идеально.\n",
      "Comment (EN): I don't know what to say, it's okay, but not perfect.\n",
      "Sentiment: positive\n",
      "\n",
      "\u001b[1m1/1\u001b[0m \u001b[32m━━━━━━━━━━━━━━━━━━━━\u001b[0m\u001b[37m\u001b[0m \u001b[1m0s\u001b[0m 44ms/step\n",
      "Comment (RU): Ожидания не оправдались, но и не худший вариант.\n",
      "Comment (EN): Expectations were not met, but it's not the worst option.\n",
      "Sentiment: positive\n",
      "\n"
     ]
    }
   ],
   "source": [
    "example_comments = [\n",
    "    (\"Этот товар мне очень понравился, рекомендую!\", \"I really liked this product, I recommend it!\"), \n",
    "    (\"Качество ужасное, не стоит своих денег.\", \"The quality is terrible, not worth the money.\"), \n",
    "    (\"Ну, неплохо, но ожидал лучшего.\", \"Well, not bad, but I expected better.\"),\n",
    "    (\"После покупки я разочарован, не советую.\", \"After purchase, I'm disappointed, don't recommend.\"), \n",
    "    (\"Это лучшая вещь, что я когда-либо покупал!\", \"This is the best thing I have ever bought!\"), \n",
    "    (\"Выглядит хорошо, но есть некоторые недостатки.\", \"Looks good, but has some drawbacks.\"), \n",
    "    (\"Категорически не рекомендую, ужасное качество.\", \"Absolutely do not recommend, terrible quality.\"), \n",
    "    (\"Описание точное, товар полностью соответствует.\", \"The description is accurate, the product matches perfectly.\"), \n",
    "    (\"Не знаю, что сказать, нормально, но не идеально.\", \"I don't know what to say, it's okay, but not perfect.\"), \n",
    "    (\"Ожидания не оправдались, но и не худший вариант.\", \"Expectations were not met, but it's not the worst option.\") \n",
    "]\n",
    "\n",
    "for comment, translation in example_comments:\n",
    "    sentiment = predict_sentiment(comment)\n",
    "    print(f\"Comment (RU): {comment}\\nComment (EN): {translation}\\nSentiment: {sentiment}\\n\")\n"
   ]
  },
  {
   "cell_type": "markdown",
   "id": "57a36aae",
   "metadata": {
    "papermill": {
     "duration": 0.410577,
     "end_time": "2025-03-02T13:06:03.095635",
     "exception": false,
     "start_time": "2025-03-02T13:06:02.685058",
     "status": "completed"
    },
    "tags": []
   },
   "source": [
    "# Summary\n",
    "This LSTM-based sentiment analysis model processes market-related comments to classify them as positive, negative, or neutral. The model dynamically adjusts based on the number of detected sentiment classes.\n",
    "\n",
    "## Key Steps in the Code\n",
    "### Text Preprocessing\n",
    "* Converts text to lowercase.\n",
    "* Removes punctuation and numbers.\n",
    "* Tokenizes words and removes stopwords (in Russian).\n",
    "### Tokenization & Padding\n",
    "* Converts words into numerical sequences.\n",
    "* Ensures all comments have the same length using pad_sequences().\n",
    "### Building the LSTM Model\n",
    "* Uses Bidirectional LSTM for better text understanding.\n",
    "* Includes Dropout layers to prevent overfitting.\n",
    "* The output layer dynamically adjusts to the number of detected sentiment classes.\n",
    "### Training the Model\n",
    "* Trained for 100 epochs using categorical cross-entropy loss.\n",
    "* Training accuracy is visualized using matplotlib.\n",
    "### Model Evaluation\n",
    "* Confusion Matrix Heatmap is generated for test results.\n",
    "* A classification report provides precision, recall, and F1-score.\n",
    "### Sentiment Prediction Function\n",
    "* Predicts the sentiment of new comments after text processing.\n",
    "### Example Predictions\n",
    "* 10 sample comments in Russian with English translations are tested.\n",
    "\n",
    "## Outcome\n",
    "* This model automatically classifies market-related comments into sentiment categories.\n",
    "* It adapts to different sentiment class distributions dynamically.\n",
    "* Visualization techniques like heatmaps and accuracy curves help in performance evaluation.\n",
    "\n",
    "### Thank you for taking the time to review my work. I would be very happy if you could upvote! 😊"
   ]
  },
  {
   "cell_type": "code",
   "execution_count": null,
   "id": "35b77920",
   "metadata": {
    "papermill": {
     "duration": 0.496051,
     "end_time": "2025-03-02T13:06:03.988390",
     "exception": false,
     "start_time": "2025-03-02T13:06:03.492339",
     "status": "completed"
    },
    "tags": []
   },
   "outputs": [],
   "source": []
  }
 ],
 "metadata": {
  "kaggle": {
   "accelerator": "none",
   "dataSources": [
    {
     "datasetId": 6659994,
     "sourceId": 10858480,
     "sourceType": "datasetVersion"
    }
   ],
   "dockerImageVersionId": 30918,
   "isGpuEnabled": false,
   "isInternetEnabled": true,
   "language": "python",
   "sourceType": "notebook"
  },
  "kernelspec": {
   "display_name": "Python 3",
   "language": "python",
   "name": "python3"
  },
  "language_info": {
   "codemirror_mode": {
    "name": "ipython",
    "version": 3
   },
   "file_extension": ".py",
   "mimetype": "text/x-python",
   "name": "python",
   "nbconvert_exporter": "python",
   "pygments_lexer": "ipython3",
   "version": "3.10.12"
  },
  "papermill": {
   "default_parameters": {},
   "duration": 7780.511989,
   "end_time": "2025-03-02T13:06:07.770188",
   "environment_variables": {},
   "exception": null,
   "input_path": "__notebook__.ipynb",
   "output_path": "__notebook__.ipynb",
   "parameters": {},
   "start_time": "2025-03-02T10:56:27.258199",
   "version": "2.6.0"
  }
 },
 "nbformat": 4,
 "nbformat_minor": 5
}
